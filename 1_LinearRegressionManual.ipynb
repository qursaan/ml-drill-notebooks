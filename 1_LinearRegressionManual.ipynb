{
  "nbformat": 4,
  "nbformat_minor": 0,
  "metadata": {
    "colab": {
      "provenance": [],
      "collapsed_sections": [],
      "authorship_tag": "ABX9TyPAvll05cTdStrQrRCjfG1A",
      "include_colab_link": true
    },
    "kernelspec": {
      "name": "python3",
      "display_name": "Python 3"
    },
    "language_info": {
      "name": "python"
    }
  },
  "cells": [
    {
      "cell_type": "markdown",
      "metadata": {
        "id": "view-in-github",
        "colab_type": "text"
      },
      "source": [
        "<a href=\"https://colab.research.google.com/github/qursaan/ml-drill-notebooks/blob/main/1_LinearRegressionManual.ipynb\" target=\"_parent\"><img src=\"https://colab.research.google.com/assets/colab-badge.svg\" alt=\"Open In Colab\"/></a>"
      ]
    },
    {
      "cell_type": "markdown",
      "source": [
        "# **Machine Learning**"
      ],
      "metadata": {
        "id": "FL8jAIWUjmlt"
      }
    },
    {
      "cell_type": "markdown",
      "source": [
        "## Programming Exercise 1\n",
        "In this exercise, you will implement **linear regression** and get to see it work on data. \n"
      ],
      "metadata": {
        "id": "KLCs_dUGkY6o"
      }
    },
    {
      "cell_type": "code",
      "source": [
        "%matplotlib inline\n",
        "import matplotlib.pyplot as plt\n",
        "import numpy as np"
      ],
      "metadata": {
        "id": "oeD2_En5mFqT"
      },
      "execution_count": 21,
      "outputs": []
    },
    {
      "cell_type": "markdown",
      "source": [
        "### Linear regression with one variable\n",
        "In this part of this exercise, you will implement linear regression with one variable to simple linear function.\n",
        "\n",
        "The general form of 1-D equation given by\n",
        "\\begin{equation*}\n",
        "  \\hat{y}=\\theta_0 + \\theta_1 x\n",
        "\\end{equation*}\n",
        "Given the following data we need to guess the equation parameters $θ_0$ and $θ_1$."
      ],
      "metadata": {
        "id": "dJ5afkTnks9z"
      }
    },
    {
      "cell_type": "code",
      "execution_count": 6,
      "metadata": {
        "colab": {
          "base_uri": "https://localhost:8080/",
          "height": 265
        },
        "id": "eCFMcLM-jLds",
        "outputId": "029a366c-b508-48c2-e883-723983dc177f"
      },
      "outputs": [
        {
          "output_type": "display_data",
          "data": {
            "text/plain": [
              "<Figure size 432x288 with 1 Axes>"
            ],
            "image/png": "[encoded data removed]"
          },
          "metadata": {
            "needs_background": "light"
          }
        }
      ],
      "source": [
        "y = [1,2,3] # label\n",
        "x = [1,2,3] # feature\n",
        "\n",
        "plt.plot(x, y, 'o', color='red');"
      ]
    },
    {
      "cell_type": "markdown",
      "source": [
        "#### **Model Represenation**\n"
      ],
      "metadata": {
        "id": "dnbzcT2ex7_L"
      }
    },
    {
      "cell_type": "markdown",
      "source": [
        "Using the definition of matrix multiplication, our hypothesis function can be concisely represented as:\n",
        "\n",
        "\\begin{equation*}\n",
        "  \\hat{y}=\\theta_0 x_0+ \\theta_1 x_1\\\\\n",
        "\\end{equation*}\n",
        "OR\n",
        "\\begin{equation*}\n",
        "  \\hat{Y}=X \\Theta\n",
        "\\end{equation*}\n",
        "\n",
        "where \n",
        "\n",
        "\\begin{equation*}\n",
        "X =  \\begin{bmatrix}\n",
        "x_0^{(1)} & x_1^{(1)} \\\\\n",
        "x_0^{(2)} & x_1^{(2)} \\\\\n",
        "x_0^{(3)} & x_1^{(3)} \\\\\n",
        "\\end{bmatrix}  \\\\\n",
        "\\Theta = \\begin{bmatrix}\n",
        "\\theta_0 \\\\ \\theta_1 \\\\\n",
        "\\end{bmatrix}  \\\\\n",
        "\\end{equation*}\n",
        "\n",
        "**Note**: The training examples are stored in X row-wise, The following example shows us the reason behind setting $x_0^{(i)}=1$. $x_i$ is column vector $1\\times m$.\n",
        "\n",
        "Assume Start with $\\theta_0=0$, and $\\theta_1=0$"
      ],
      "metadata": {
        "id": "RzzRVsqm2UZ9"
      }
    },
    {
      "cell_type": "code",
      "source": [
        "# Redefine Variable \n",
        "X = np.array([[1 , 1],[1,  2],[1 , 3]])\n",
        "Y = np.array([[1],[2],[3]])\n",
        "theta = np.array([[0],[0]])\n",
        "m = 3\n",
        "\n",
        "print(\"X = \\n\", X)\n",
        "print(\"Y = \\n\", Y)\n",
        "print(\"θ = \\n\", theta)"
      ],
      "metadata": {
        "colab": {
          "base_uri": "https://localhost:8080/"
        },
        "id": "JmyWjnSO105G",
        "outputId": "f35ce8fe-8896-4dfd-9d1f-04e109d667fd"
      },
      "execution_count": 70,
      "outputs": [
        {
          "output_type": "stream",
          "name": "stdout",
          "text": [
            "X = \n",
            " [[1 1]\n",
            " [1 2]\n",
            " [1 3]]\n",
            "Y = \n",
            " [[1]\n",
            " [2]\n",
            " [3]]\n",
            "θ = \n",
            " [[0]\n",
            " [0]]\n"
          ]
        }
      ]
    },
    {
      "cell_type": "code",
      "source": [
        "# Predict Y using theta0= 0 and theta_1=0\n",
        "Y_hat = X.dot(theta)\n",
        "\n",
        "print(\"y^ = \" ,Y_hat)"
      ],
      "metadata": {
        "colab": {
          "base_uri": "https://localhost:8080/"
        },
        "id": "XC6DNAQC6i8U",
        "outputId": "22000e1f-127d-4d87-e665-56ecef6952c7"
      },
      "execution_count": 49,
      "outputs": [
        {
          "output_type": "stream",
          "name": "stdout",
          "text": [
            "y^ =  [[0]\n",
            " [0]\n",
            " [0]]\n"
          ]
        }
      ]
    },
    {
      "cell_type": "markdown",
      "source": [
        "#### **Cost function**"
      ],
      "metadata": {
        "id": "1c6bbJDr9c-D"
      }
    },
    {
      "cell_type": "markdown",
      "source": [
        "We can measure the accuracy of our hypothesis function by using a cost function. This takes an average difference of all the results of the hypothesis with inputs from x's and the actual output y's.\n",
        "\\begin{equation*}\n",
        "J(\\theta_0,\\theta_1)=\\frac{1}{2m} \\sum_{i=1}^m(h_θ (x_i) -y_i )^2 \n",
        "\\end{equation*}\n",
        "Using vectorized form\n",
        "\\begin{equation*}\n",
        "J(\\theta_0,\\theta_1)=\\frac{1}{2m} (\\hat{Y} - Y)^{T}(\\hat{Y} - Y)\n",
        "\\end{equation*}\n",
        "\n"
      ],
      "metadata": {
        "id": "G0dCh3--9nMS"
      }
    },
    {
      "cell_type": "code",
      "source": [
        "print(Y_hat - Y)"
      ],
      "metadata": {
        "colab": {
          "base_uri": "https://localhost:8080/"
        },
        "id": "SCjvvzIQJ3uO",
        "outputId": "fca5ed29-dd76-4821-e884-2c3ad81e79ba"
      },
      "execution_count": 71,
      "outputs": [
        {
          "output_type": "stream",
          "name": "stdout",
          "text": [
            "[[-1]\n",
            " [-2]\n",
            " [-3]]\n"
          ]
        }
      ]
    },
    {
      "cell_type": "code",
      "source": [
        "# Calc Squre Error\n",
        "SqrError = (Y_hat - Y).transpose().dot(Y_hat - Y)\n",
        "\n",
        "print(\"SqrError = \", SqrError)"
      ],
      "metadata": {
        "colab": {
          "base_uri": "https://localhost:8080/"
        },
        "id": "oU9xXY1fDLlI",
        "outputId": "1ae4fb4e-4eec-4e06-fd2d-0df6279de436"
      },
      "execution_count": 56,
      "outputs": [
        {
          "output_type": "stream",
          "name": "stdout",
          "text": [
            "SqrError =  [[14]]\n"
          ]
        }
      ]
    },
    {
      "cell_type": "code",
      "source": [
        "# Calc Cost Value\n",
        "\n",
        "J = 1/(2*m) * SqrError\n",
        "\n",
        "print(\"J = \", J)"
      ],
      "metadata": {
        "colab": {
          "base_uri": "https://localhost:8080/"
        },
        "id": "v07YlMuQDeIh",
        "outputId": "4b3d02e5-6b6a-44a2-96f0-e3e00b7af452"
      },
      "execution_count": 58,
      "outputs": [
        {
          "output_type": "stream",
          "name": "stdout",
          "text": [
            "J =  [[2.33333333]]\n"
          ]
        }
      ]
    },
    {
      "cell_type": "markdown",
      "source": [
        "Group ***Cost operation*** in function"
      ],
      "metadata": {
        "id": "WgjguwtgEXUp"
      }
    },
    {
      "cell_type": "code",
      "source": [
        "# Group All in one function\n",
        "def computeCost(X,y, theta):\n",
        "    m=len(y)\n",
        "    y_hat = X.dot(theta)\n",
        "    SqrError = (y_hat - y).transpose().dot(y_hat - y)\n",
        "    J = 1/(2*m) * SqrError\n",
        "    return J"
      ],
      "metadata": {
        "id": "qWgseycW629a"
      },
      "execution_count": 61,
      "outputs": []
    },
    {
      "cell_type": "code",
      "source": [
        "# Try function \n",
        "print(\"J = \", computeCost(X,Y, theta))"
      ],
      "metadata": {
        "colab": {
          "base_uri": "https://localhost:8080/"
        },
        "id": "nXHk6WncDBcm",
        "outputId": "fb601706-178e-4e8a-ccd8-dfb3e08d74eb"
      },
      "execution_count": 62,
      "outputs": [
        {
          "output_type": "stream",
          "name": "stdout",
          "text": [
            "J =  [[2.33333333]]\n"
          ]
        }
      ]
    },
    {
      "cell_type": "markdown",
      "source": [
        "### Gradient Descent \n",
        "The gradient descent algorithm is:\n",
        "repeat until convergence:\n",
        "\\begin{equation*}\n",
        "\\theta_j:=\\theta_j-\\alpha \\frac{\\partial }{\\partial \\theta_j} J(\\theta_0,\\theta_1)\n",
        "\\end{equation*}\n",
        "\n",
        "Where j=0,1 represents the feature index number, and $\\alpha$ is the learning rate.\n",
        "\n",
        "This lead to\n",
        "\n",
        "\\begin{equation*}\n",
        "\\theta_j:=\\theta_j-\\alpha \\frac{1}{m} \\sum_{i=1}^m(h_{\\theta} (x^{(i)}) -y^{(i)} ) x_j^{(i)}\n",
        "\\end{equation*}\n",
        "\n",
        "Using vectorized form\n",
        "\\begin{equation*}\n",
        "\\theta_j:=\\theta_j-\\alpha \\frac{1}{m} (\\hat{Y} - Y)^{T}(X)\n",
        "\\end{equation*}\n",
        "\n"
      ],
      "metadata": {
        "id": "iv9M5AoSFBeg"
      }
    },
    {
      "cell_type": "code",
      "source": [
        "# set alpha\n",
        "alpha = 0.1"
      ],
      "metadata": {
        "id": "AEPbIzxiJQDy"
      },
      "execution_count": 108,
      "outputs": []
    },
    {
      "cell_type": "code",
      "source": [
        "new_theta = theta - alpha/m *((Y_hat-Y).transpose().dot(X)).transpose()\n",
        "\n",
        "print(\"Old Theta = \\n\", theta)\n",
        "print(\"New Theta = \\n\", new_theta)\n"
      ],
      "metadata": {
        "colab": {
          "base_uri": "https://localhost:8080/"
        },
        "id": "KOMR3MF5E0Ob",
        "outputId": "ae903aa8-ecb9-4ae5-914e-f4da677ec03e"
      },
      "execution_count": 109,
      "outputs": [
        {
          "output_type": "stream",
          "name": "stdout",
          "text": [
            "Old Theta = \n",
            " [[0]\n",
            " [0]]\n",
            "New Theta = \n",
            " [[0.2       ]\n",
            " [0.46666667]]\n"
          ]
        }
      ]
    },
    {
      "cell_type": "markdown",
      "source": [
        "Group ***Gredient descent*** in function\n",
        "\n"
      ],
      "metadata": {
        "id": "fYXVhQcWK6PA"
      }
    },
    {
      "cell_type": "code",
      "source": [
        "def gredient_descent(X, y, theta, alpha, num_iters):\n",
        "    m=len(y)\n",
        "    J_history = []\n",
        "    for i in range(num_iters):\n",
        "      # Calc Cost\n",
        "      J = computeCost(X,Y, theta)\n",
        "      print(\"Iteration: \", i ,\" theta = [\", round(theta[0][0],3),\",\" ,round(theta[1][0],3), \"] \\tCost = \", round(J[0][0],3))\n",
        "      J_history.append(J[0][0])\n",
        "      # Estimate New Theta\n",
        "      Y_hat = X.dot(theta)\n",
        "      theta = theta - alpha/m *((Y_hat-Y).transpose().dot(X)).transpose()\n",
        "    return J_history"
      ],
      "metadata": {
        "id": "HAh8bDuKJblz"
      },
      "execution_count": 110,
      "outputs": []
    },
    {
      "cell_type": "code",
      "source": [
        "J_hist = gredient_descent(X, y, theta, alpha, 6)"
      ],
      "metadata": {
        "colab": {
          "base_uri": "https://localhost:8080/"
        },
        "id": "enafCRi-LDMK",
        "outputId": "26e71673-7e0e-4680-f1f6-7dd6f2d73e20"
      },
      "execution_count": 111,
      "outputs": [
        {
          "output_type": "stream",
          "name": "stdout",
          "text": [
            "Iteration:  0  theta = [ 0 , 0 ] \tCost =  2.333\n",
            "Iteration:  1  theta = [ 0.2 , 0.467 ] \tCost =  0.47\n",
            "Iteration:  2  theta = [ 0.287 , 0.676 ] \tCost =  0.101\n",
            "Iteration:  3  theta = [ 0.323 , 0.77 ] \tCost =  0.027\n",
            "Iteration:  4  theta = [ 0.337 , 0.813 ] \tCost =  0.012\n",
            "Iteration:  5  theta = [ 0.34 , 0.833 ] \tCost =  0.009\n"
          ]
        }
      ]
    },
    {
      "cell_type": "code",
      "source": [
        "plt.plot(J_hist, color='red');\n",
        "# naming the x axis\n",
        "plt.xlabel('Training Step')\n",
        "# naming the y axis\n",
        "plt.ylabel('J Cost')\n",
        "plt.show()"
      ],
      "metadata": {
        "colab": {
          "base_uri": "https://localhost:8080/",
          "height": 279
        },
        "id": "2b3chccINC-M",
        "outputId": "6cecc8a5-a1fd-4228-a31b-934a4f05b785"
      },
      "execution_count": 112,
      "outputs": [
        {
          "output_type": "display_data",
          "data": {
            "text/plain": [
              "<Figure size 432x288 with 1 Axes>"
            ],
            "image/png": "[encoded data removed]"
          },
          "metadata": {
            "needs_background": "light"
          }
        }
      ]
    },
    {
      "cell_type": "code",
      "source": [],
      "metadata": {
        "id": "5VhEZ8m5QLp0"
      },
      "execution_count": 112,
      "outputs": []
    }
  ]
}