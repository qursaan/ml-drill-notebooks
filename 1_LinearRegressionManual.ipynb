{
  "nbformat": 4,
  "nbformat_minor": 0,
  "metadata": {
    "colab": {
      "provenance": [],
      "collapsed_sections": [
        "dnbzcT2ex7_L"
      ],
      "authorship_tag": "ABX9TyN5di+gT7I/l6qQRIbZXjt0",
      "include_colab_link": true
    },
    "kernelspec": {
      "name": "python3",
      "display_name": "Python 3"
    },
    "language_info": {
      "name": "python"
    }
  },
  "cells": [
    {
      "cell_type": "markdown",
      "metadata": {
        "id": "view-in-github",
        "colab_type": "text"
      },
      "source": [
        "<a href=\"https://colab.research.google.com/github/qursaan/ml-drill-notebooks/blob/main/1_LinearRegressionManual.ipynb\" target=\"_parent\"><img src=\"https://colab.research.google.com/assets/colab-badge.svg\" alt=\"Open In Colab\"/></a>"
      ]
    },
    {
      "cell_type": "markdown",
      "source": [
        "# **Machine Learning**"
      ],
      "metadata": {
        "id": "FL8jAIWUjmlt"
      }
    },
    {
      "cell_type": "markdown",
      "source": [
        "## Programming Exercise 1\n",
        "In this exercise, you will implement **linear regression** and get to see it work on data. \n"
      ],
      "metadata": {
        "id": "KLCs_dUGkY6o"
      }
    },
    {
      "cell_type": "code",
      "source": [
        "%matplotlib inline\n",
        "import matplotlib.pyplot as plt\n",
        "import numpy as np"
      ],
      "metadata": {
        "id": "oeD2_En5mFqT"
      },
      "execution_count": 21,
      "outputs": []
    },
    {
      "cell_type": "markdown",
      "source": [
        "### Linear regression with one variable\n",
        "In this part of this exercise, you will implement linear regression with one variable to simple linear function.\n",
        "\n",
        "The general form of 1-D equation given by\n",
        "\\begin{equation*}\n",
        "  \\hat{y}=\\theta_0 + \\theta_1 x\n",
        "\\end{equation*}\n",
        "Given the following data we need to guess the equation parameters $θ_0$ and $θ_1$."
      ],
      "metadata": {
        "id": "dJ5afkTnks9z"
      }
    },
    {
      "cell_type": "code",
      "execution_count": 6,
      "metadata": {
        "colab": {
          "base_uri": "https://localhost:8080/",
          "height": 265
        },
        "id": "eCFMcLM-jLds",
        "outputId": "029a366c-b508-48c2-e883-723983dc177f"
      },
      "outputs": [
        {
          "output_type": "display_data",
          "data": {
            "text/plain": [
              "<Figure size 432x288 with 1 Axes>"
            ],
            "image/png": "[encoded data removed]"
          },
          "metadata": {
            "needs_background": "light"
          }
        }
      ],
      "source": [
        "y = [1,2,3] # label\n",
        "x = [1,2,3] # feature\n",
        "\n",
        "plt.plot(x, y, 'o', color='red');"
      ]
    },
    {
      "cell_type": "markdown",
      "source": [
        "#### **Model Represenation**\n"
      ],
      "metadata": {
        "id": "dnbzcT2ex7_L"
      }
    },
    {
      "cell_type": "markdown",
      "source": [
        "Using the definition of matrix multiplication, our hypothesis function can be concisely represented as:\n",
        "\n",
        "\\begin{equation*}\n",
        "  \\hat{y}=\\theta_0 x_0+ \\theta_1 x_1\\\\\n",
        "\\end{equation*}\n",
        "OR\n",
        "\\begin{equation*}\n",
        "  \\hat{Y}=X \\Theta\n",
        "\\end{equation*}\n",
        "\n",
        "where \n",
        "\n",
        "\\begin{equation*}\n",
        "X =  \\begin{bmatrix}\n",
        "x_0^{(1)} & x_1^{(1)} \\\\\n",
        "x_0^{(2)} & x_1^{(2)} \\\\\n",
        "x_0^{(3)} & x_1^{(3)} \\\\\n",
        "\\end{bmatrix}  \\\\\n",
        "\\Theta = \\begin{bmatrix}\n",
        "\\theta_0 \\\\ \\theta_1 \\\\\n",
        "\\end{bmatrix}  \\\\\n",
        "\\end{equation*}\n",
        "\n",
        "**Note**: The training examples are stored in X row-wise, The following example shows us the reason behind setting $x_0^{(i)}=1$. $x_i$ is column vector $1\\times m$.\n",
        "\n",
        "Assume Start with $\\theta_0=0$, and $\\theta_1=0$"
      ],
      "metadata": {
        "id": "RzzRVsqm2UZ9"
      }
    },
    {
      "cell_type": "code",
      "source": [
        "# Redefine Variable \n",
        "X = np.array([[1 , 1],[1,  2],[1 , 3]])\n",
        "Y = np.array([[1],[2],[3]])\n",
        "theta = np.array([[0],[0]])\n",
        "m = 3\n",
        "\n",
        "print(\"X = \", X)\n",
        "print(\"Y = \", Y)\n",
        "print(\"θ = \", theta)"
      ],
      "metadata": {
        "colab": {
          "base_uri": "https://localhost:8080/"
        },
        "id": "JmyWjnSO105G",
        "outputId": "6c1ac437-7853-4d92-deb1-4a95c945314a"
      },
      "execution_count": 39,
      "outputs": [
        {
          "output_type": "stream",
          "name": "stdout",
          "text": [
            "X =  [[1 1]\n",
            " [1 2]\n",
            " [1 3]]\n",
            "Y =  [[1]\n",
            " [2]\n",
            " [3]]\n",
            "θ =  [[0]\n",
            " [0]]\n"
          ]
        }
      ]
    },
    {
      "cell_type": "code",
      "source": [
        "# Predict Y using theta0= 0 and theta_1=0\n",
        "Y_hat = X.dot(theta)\n",
        "\n",
        "print(\"y^ = \" ,Y_hat)"
      ],
      "metadata": {
        "colab": {
          "base_uri": "https://localhost:8080/"
        },
        "id": "XC6DNAQC6i8U",
        "outputId": "22000e1f-127d-4d87-e665-56ecef6952c7"
      },
      "execution_count": 49,
      "outputs": [
        {
          "output_type": "stream",
          "name": "stdout",
          "text": [
            "y^ =  [[0]\n",
            " [0]\n",
            " [0]]\n"
          ]
        }
      ]
    },
    {
      "cell_type": "markdown",
      "source": [
        "#### **Cost function**"
      ],
      "metadata": {
        "id": "1c6bbJDr9c-D"
      }
    },
    {
      "cell_type": "markdown",
      "source": [
        "We can measure the accuracy of our hypothesis function by using a cost function. This takes an average difference of all the results of the hypothesis with inputs from x's and the actual output y's.\n",
        "\\begin{equation*}\n",
        "J(\\theta_0,\\theta_1)=\\frac{1}{2m} \\sum_{i=1}^m(h_θ (x_i) -y_i )^2 \n",
        "\\end{equation*}\n",
        "Using vectorized form\n",
        "\\begin{equation*}\n",
        "J(\\theta_0,\\theta_1)=\\frac{1}{2m} (X \\Theta - Y)^{T}(X \\Theta - Y)\n",
        "\\end{equation*}\n",
        "\n"
      ],
      "metadata": {
        "id": "G0dCh3--9nMS"
      }
    },
    {
      "cell_type": "code",
      "source": [
        "# Calc Squre Error\n",
        "SqrError = (Y_hat - Y).transpose().dot(Y_hat - Y)\n",
        "\n",
        "print(\"SqrError = \", SqrError)"
      ],
      "metadata": {
        "colab": {
          "base_uri": "https://localhost:8080/"
        },
        "id": "oU9xXY1fDLlI",
        "outputId": "1ae4fb4e-4eec-4e06-fd2d-0df6279de436"
      },
      "execution_count": 56,
      "outputs": [
        {
          "output_type": "stream",
          "name": "stdout",
          "text": [
            "SqrError =  [[14]]\n"
          ]
        }
      ]
    },
    {
      "cell_type": "code",
      "source": [
        "# Calc Cost Value\n",
        "\n",
        "J = 1/(2*m) * SqrError\n",
        "\n",
        "print(\"J = \", J)"
      ],
      "metadata": {
        "colab": {
          "base_uri": "https://localhost:8080/"
        },
        "id": "v07YlMuQDeIh",
        "outputId": "4b3d02e5-6b6a-44a2-96f0-e3e00b7af452"
      },
      "execution_count": 58,
      "outputs": [
        {
          "output_type": "stream",
          "name": "stdout",
          "text": [
            "J =  [[2.33333333]]\n"
          ]
        }
      ]
    },
    {
      "cell_type": "markdown",
      "source": [
        "Group Cost operation in function"
      ],
      "metadata": {
        "id": "WgjguwtgEXUp"
      }
    },
    {
      "cell_type": "code",
      "source": [
        "# Group All in one function\n",
        "def computeCost(X,y, theta):\n",
        "    m=len(y)\n",
        "    y_hat = X.dot(theta)\n",
        "    SqrError = (y_hat - y).transpose().dot(y_hat - y)\n",
        "    J = 1/(2*m) * SqrError\n",
        "    return J"
      ],
      "metadata": {
        "id": "qWgseycW629a"
      },
      "execution_count": 61,
      "outputs": []
    },
    {
      "cell_type": "code",
      "source": [
        "# Try function \n",
        "\n",
        "print(\"J = \", computeCost(X,Y, theta))"
      ],
      "metadata": {
        "colab": {
          "base_uri": "https://localhost:8080/"
        },
        "id": "nXHk6WncDBcm",
        "outputId": "fb601706-178e-4e8a-ccd8-dfb3e08d74eb"
      },
      "execution_count": 62,
      "outputs": [
        {
          "output_type": "stream",
          "name": "stdout",
          "text": [
            "J =  [[2.33333333]]\n"
          ]
        }
      ]
    },
    {
      "cell_type": "markdown",
      "source": [
        "### Gradient Descent \n",
        "The gradient descent algorithm is:\n",
        "repeat until convergence:\n",
        "\\begin{equation*}\n",
        "\\theta_j:=\\theta_j-\\alpha \\frac{\\partial }{\\partial \\theta_j} J(\\theta_0,\\theta_1)\n",
        "\\end{equation*}\n",
        "\n",
        "Where j=0,1 represents the feature index number.\n",
        " "
      ],
      "metadata": {
        "id": "iv9M5AoSFBeg"
      }
    },
    {
      "cell_type": "code",
      "source": [],
      "metadata": {
        "id": "KOMR3MF5E0Ob"
      },
      "execution_count": null,
      "outputs": []
    }
  ]
}